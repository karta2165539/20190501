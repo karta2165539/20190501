{
 "cells": [
  {
   "cell_type": "code",
   "execution_count": 8,
   "metadata": {},
   "outputs": [
    {
     "name": "stdout",
     "output_type": "stream",
     "text": [
      "輸入數字10\n",
      "輸入符號/\n",
      "輸入數字5\n",
      "10 / 5 = 2.0\n"
     ]
    }
   ],
   "source": [
    "def add(arg1,arg2):\n",
    "    print(arg1,\"+\",arg2,\"=\",(arg1-arg2))\n",
    "def sub(arg1,arg2):\n",
    "    print(arg1,\"-\",arg2,\"=\",(arg1-arg2))\n",
    "def muti(arg1,arg2):\n",
    "    print(arg1,\"*\",arg2,\"=\",(arg1*arg2))\n",
    "def div(arg1,arg2):\n",
    "    print(arg1,\"/\",arg2,\"=\",(arg1/arg2))\n",
    "def run_function(func, *args):\n",
    "    return func(*args)\n",
    "input1=eval(input(\"輸入數字\"))\n",
    "input2=input(\"輸入符號\")\n",
    "input3=eval(input(\"輸入數字\"))\n",
    "if input2==\"+\":\n",
    "    add(input1,input3)\n",
    "elif input2==\"-\":\n",
    "    sub(input1,input3)\n",
    "elif input2==\"*\":\n",
    "    muti(input1,input3)\n",
    "elif input2==\"/\":\n",
    "    div(input1,input3)\n",
    "else:\n",
    "    print(\"error\")\n",
    "    "
   ]
  },
  {
   "cell_type": "code",
   "execution_count": null,
   "metadata": {},
   "outputs": [],
   "source": []
  },
  {
   "cell_type": "code",
   "execution_count": null,
   "metadata": {},
   "outputs": [],
   "source": [
    "\n"
   ]
  }
 ],
 "metadata": {
  "kernelspec": {
   "display_name": "Python 3",
   "language": "python",
   "name": "python3"
  },
  "language_info": {
   "codemirror_mode": {
    "name": "ipython",
    "version": 3
   },
   "file_extension": ".py",
   "mimetype": "text/x-python",
   "name": "python",
   "nbconvert_exporter": "python",
   "pygments_lexer": "ipython3",
   "version": "3.7.3"
  }
 },
 "nbformat": 4,
 "nbformat_minor": 2
}
